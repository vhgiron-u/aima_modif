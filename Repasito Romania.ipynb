{
 "cells": [
  {
   "cell_type": "code",
   "execution_count": 2,
   "metadata": {
    "colab": {
     "base_uri": "https://localhost:8080/",
     "height": 34
    },
    "colab_type": "code",
    "executionInfo": {
     "elapsed": 490,
     "status": "ok",
     "timestamp": 1554139327166,
     "user": {
      "displayName": "Victor Hiroshi Girón",
      "photoUrl": "https://lh3.googleusercontent.com/-1IApJraAmSE/AAAAAAAAAAI/AAAAAAAAAYc/HCb5mll4twA/s64/photo.jpg",
      "userId": "08968266436522982948"
     },
     "user_tz": 300
    },
    "id": "DtsYYcM1xNlj",
    "outputId": "004ed6f5-719a-4c5d-fe04-37b21e8c4eba"
   },
   "outputs": [
    {
     "data": {
      "text/plain": [
       "'3.6.7 (default, Oct 22 2018, 11:32:17) \\n[GCC 8.2.0]'"
      ]
     },
     "execution_count": 2,
     "metadata": {
      "tags": []
     },
     "output_type": "execute_result"
    }
   ],
   "source": [
    "import sys\n",
    "sys.version"
   ]
  },
  {
   "cell_type": "code",
   "execution_count": 0,
   "metadata": {
    "colab": {},
    "colab_type": "code",
    "id": "-MxBaqpgxO3h"
   },
   "outputs": [],
   "source": [
    "from google.colab import drive"
   ]
  },
  {
   "cell_type": "code",
   "execution_count": 0,
   "metadata": {
    "colab": {},
    "colab_type": "code",
    "id": "leMNR5YP1OXH"
   },
   "outputs": [],
   "source": [
    "import os"
   ]
  },
  {
   "cell_type": "code",
   "execution_count": 5,
   "metadata": {
    "colab": {
     "base_uri": "https://localhost:8080/",
     "height": 544
    },
    "colab_type": "code",
    "executionInfo": {
     "elapsed": 23581,
     "status": "ok",
     "timestamp": 1554139353715,
     "user": {
      "displayName": "Victor Hiroshi Girón",
      "photoUrl": "https://lh3.googleusercontent.com/-1IApJraAmSE/AAAAAAAAAAI/AAAAAAAAAYc/HCb5mll4twA/s64/photo.jpg",
      "userId": "08968266436522982948"
     },
     "user_tz": 300
    },
    "id": "heDvfIK2xSmf",
    "outputId": "5f5d466c-e2c8-4e69-e945-5119cb2ee387"
   },
   "outputs": [
    {
     "name": "stdout",
     "output_type": "stream",
     "text": [
      "Mounted at colab\n",
      "agents.ipynb\t\t       nlp.py\n",
      "agents.py\t\t       notebook.py\n",
      "aima-data\t\t       obsolete-search-4e.ipynb\n",
      "CONTRIBUTING.md\t\t       planning_angelic_search.ipynb\n",
      "csp.ipynb\t\t       planning_graphPlan.ipynb\n",
      "csp.py\t\t\t       planning_hierarchical_search.ipynb\n",
      "games.ipynb\t\t       planning.ipynb\n",
      "games.py\t\t       planning_partial_order_planner.ipynb\n",
      "gui\t\t\t       planning.py\n",
      "images\t\t\t       planning_total_order_planner.ipynb\n",
      "index.ipynb\t\t       probability-4e.ipynb\n",
      "intro.ipynb\t\t       probability.ipynb\n",
      "ipyviews.py\t\t       probability.py\n",
      "js\t\t\t       __pycache__\n",
      "knowledge_current_best.ipynb   pytest.ini\n",
      "knowledge_FOIL.ipynb\t       README.md\n",
      "knowledge.py\t\t       requirements.txt\n",
      "knowledge_version_space.ipynb  rl.ipynb\n",
      "learning_apps.ipynb\t       rl.py\n",
      "learning.ipynb\t\t       search4e.ipynb\n",
      "learning.py\t\t       search.ipynb\n",
      "LICENSE\t\t\t       search.py\n",
      "logic.ipynb\t\t       SUBMODULE.md\n",
      "logic.py\t\t       tests\n",
      "mdp_apps.ipynb\t\t       text.ipynb\n",
      "mdp.ipynb\t\t       text.py\n",
      "mdp.py\t\t\t       Untitled0.ipynb\n",
      "neural_nets.ipynb\t       utils.py\n",
      "nlp_apps.ipynb\t\t       vacuum_world.ipynb\n",
      "nlp.ipynb\n"
     ]
    }
   ],
   "source": [
    "drive.mount('colab')\n",
    "os.chdir('colab/My Drive/aima')\n",
    "!ls"
   ]
  },
  {
   "cell_type": "code",
   "execution_count": 0,
   "metadata": {
    "colab": {},
    "colab_type": "code",
    "id": "6AAlKEhR1LkT"
   },
   "outputs": [],
   "source": [
    "from search import (Node, Problem, SimpleProblemSolvingAgentProgram, depth_first_graph_search, UndirectedGraph, GraphProblem)"
   ]
  },
  {
   "cell_type": "code",
   "execution_count": 0,
   "metadata": {
    "colab": {},
    "colab_type": "code",
    "id": "OZANFbUN1l0T"
   },
   "outputs": [],
   "source": [
    "romania_map = UndirectedGraph(dict(\n",
    "    Arad=dict(Zerind=75, Sibiu=140, Timisoara=118),\n",
    "    Bucharest=dict(Urziceni=85, Pitesti=101, Giurgiu=90, Fagaras=211),\n",
    "    Craiova=dict(Drobeta=120, Rimnicu=146, Pitesti=138),\n",
    "    Drobeta=dict(Mehadia=75),\n",
    "    Eforie=dict(Hirsova=86),\n",
    "    Fagaras=dict(Sibiu=99),\n",
    "    Hirsova=dict(Urziceni=98),\n",
    "    Iasi=dict(Vaslui=92, Neamt=87),\n",
    "    Lugoj=dict(Timisoara=111, Mehadia=70),\n",
    "    Oradea=dict(Zerind=71, Sibiu=151),\n",
    "    Pitesti=dict(Rimnicu=97),\n",
    "    Rimnicu=dict(Sibiu=80),\n",
    "    Urziceni=dict(Vaslui=142)))\n",
    "romania_map.locations = dict(\n",
    "    Arad=(91, 492), Bucharest=(400, 327), Craiova=(253, 288),\n",
    "    Drobeta=(165, 299), Eforie=(562, 293), Fagaras=(305, 449),\n",
    "    Giurgiu=(375, 270), Hirsova=(534, 350), Iasi=(473, 506),\n",
    "    Lugoj=(165, 379), Mehadia=(168, 339), Neamt=(406, 537),\n",
    "    Oradea=(131, 571), Pitesti=(320, 368), Rimnicu=(233, 410),\n",
    "    Sibiu=(207, 457), Timisoara=(94, 410), Urziceni=(456, 350),\n",
    "    Vaslui=(509, 444), Zerind=(108, 531))\n"
   ]
  },
  {
   "cell_type": "code",
   "execution_count": 0,
   "metadata": {
    "colab": {},
    "colab_type": "code",
    "id": "tpmqGd-p2CYh"
   },
   "outputs": [],
   "source": [
    "romania_problem = GraphProblem('Arad','Bucharest',romania_map)\n",
    "romania_problem"
   ]
  },
  {
   "cell_type": "code",
   "execution_count": 13,
   "metadata": {
    "colab": {
     "base_uri": "https://localhost:8080/",
     "height": 34
    },
    "colab_type": "code",
    "executionInfo": {
     "elapsed": 660,
     "status": "ok",
     "timestamp": 1554139481995,
     "user": {
      "displayName": "Victor Hiroshi Girón",
      "photoUrl": "https://lh3.googleusercontent.com/-1IApJraAmSE/AAAAAAAAAAI/AAAAAAAAAYc/HCb5mll4twA/s64/photo.jpg",
      "userId": "08968266436522982948"
     },
     "user_tz": 300
    },
    "id": "NeOfbPUi2_Ru",
    "outputId": "e2077162-414e-44e0-e88b-6b8eda5db2ff"
   },
   "outputs": [
    {
     "data": {
      "text/plain": [
       "<Node Bucharest>"
      ]
     },
     "execution_count": 13,
     "metadata": {
      "tags": []
     },
     "output_type": "execute_result"
    }
   ],
   "source": [
    "goal_node = depth_first_graph_search(romania_problem)\n",
    "goal_node"
   ]
  },
  {
   "cell_type": "code",
   "execution_count": 14,
   "metadata": {
    "colab": {
     "base_uri": "https://localhost:8080/",
     "height": 153
    },
    "colab_type": "code",
    "executionInfo": {
     "elapsed": 772,
     "status": "ok",
     "timestamp": 1554139485660,
     "user": {
      "displayName": "Victor Hiroshi Girón",
      "photoUrl": "https://lh3.googleusercontent.com/-1IApJraAmSE/AAAAAAAAAAI/AAAAAAAAAYc/HCb5mll4twA/s64/photo.jpg",
      "userId": "08968266436522982948"
     },
     "user_tz": 300
    },
    "id": "T3z2JkMk3EO-",
    "outputId": "603cc5d6-e087-476c-d9c9-7f1fcfe93a89"
   },
   "outputs": [
    {
     "data": {
      "text/plain": [
       "['Arad',\n",
       " 'Timisoara',\n",
       " 'Lugoj',\n",
       " 'Mehadia',\n",
       " 'Drobeta',\n",
       " 'Craiova',\n",
       " 'Pitesti',\n",
       " 'Bucharest']"
      ]
     },
     "execution_count": 14,
     "metadata": {
      "tags": []
     },
     "output_type": "execute_result"
    }
   ],
   "source": [
    "sol  = [romania_problem.initial] + goal_node.solution()\n",
    "sol"
   ]
  },
  {
   "cell_type": "code",
   "execution_count": 0,
   "metadata": {
    "colab": {},
    "colab_type": "code",
    "id": "zP3UnUW13ViV"
   },
   "outputs": [],
   "source": []
  }
 ],
 "metadata": {
  "colab": {
   "collapsed_sections": [],
   "name": "Repasito Romania.ipynb",
   "provenance": [],
   "version": "0.3.2"
  },
  "kernelspec": {
   "display_name": "Python 3",
   "language": "python",
   "name": "python3"
  },
  "language_info": {
   "codemirror_mode": {
    "name": "ipython",
    "version": 3
   },
   "file_extension": ".py",
   "mimetype": "text/x-python",
   "name": "python",
   "nbconvert_exporter": "python",
   "pygments_lexer": "ipython3",
   "version": "3.7.2"
  }
 },
 "nbformat": 4,
 "nbformat_minor": 1
}
